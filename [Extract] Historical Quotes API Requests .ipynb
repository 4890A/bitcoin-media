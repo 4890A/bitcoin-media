{
 "cells": [
  {
   "cell_type": "code",
   "execution_count": 1,
   "metadata": {},
   "outputs": [],
   "source": [
    "# Import dependencies\n",
    "import pandas as pd\n",
    "import numpy as np\n",
    "import requests\n",
    "import datetime\n",
    "import json\n",
    "import pprint\n",
    "from config import api_key, rapid_key"
   ]
  },
  {
   "cell_type": "markdown",
   "metadata": {},
   "source": [
    "# Bitcoin Historical Quotes (Bitcoin Average API)"
   ]
  },
  {
   "cell_type": "code",
   "execution_count": 2,
   "metadata": {},
   "outputs": [],
   "source": [
    "# API requests for Bitcoin (BTC) historical quotes\n",
    "url = \"https://bitcoinaverage-bitcoin-historical-data-v1.p.rapidapi.com/indices/local/history/BTCUSD\"\n",
    "\n",
    "payload = \"{}\"\n",
    "headers = {\n",
    "    'x-rapidapi-host': \"bitcoinaverage-bitcoin-historical-data-v1.p.rapidapi.com\",\n",
    "    'x-rapidapi-key': rapid_key,\n",
    "}\n",
    "params = {\n",
    "    'period': \"alltime\"\n",
    "}\n",
    "\n",
    "btc_response = requests.request(\"get\",url, data=payload, headers=headers, params=params)\n",
    "\n",
    "# Save response as JSON format\n",
    "btc_json = btc_response.json()\n",
    "\n",
    "# Save JSON file \n",
    "with open('Historical Quotes Raw/BTC Quotes Raw.json', 'w') as outfile:\n",
    "    json.dump(btc_json, outfile, sort_keys=True, indent=4)"
   ]
  },
  {
   "cell_type": "markdown",
   "metadata": {},
   "source": [
    "# SPDR Gold Shares Historical Quotes (Alpha Vantage API)"
   ]
  },
  {
   "cell_type": "code",
   "execution_count": 3,
   "metadata": {},
   "outputs": [
    {
     "data": {
      "text/plain": [
       "{'1. open': '141.6100',\n",
       " '2. high': '143.0300',\n",
       " '3. low': '141.4600',\n",
       " '4. close': '142.9500',\n",
       " '5. volume': '10133572'}"
      ]
     },
     "execution_count": 3,
     "metadata": {},
     "output_type": "execute_result"
    }
   ],
   "source": [
    "# API request for SPDR Gold Shares (GLD) historical quotes\n",
    "# GLD as a proxy for XAU performance\n",
    "gld_response = requests.get('https://www.alphavantage.co/query?function=TIME_SERIES_DAILY&symbol=GLD&outputsize=full&apikey={api_key}')\n",
    "gld_json = gld_response.json()\n",
    "\n",
    "# Sample syntax for accessing element of interest    \n",
    "gld_json['Time Series (Daily)']['2019-09-20']"
   ]
  },
  {
   "cell_type": "code",
   "execution_count": 4,
   "metadata": {},
   "outputs": [],
   "source": [
    "# List comprehension for creating a list of date entries\n",
    "gld_date = [date for date in gld_json['Time Series (Daily)']]\n",
    "\n",
    "# List comprehension for creating a list of quote\n",
    "gld_quote = [gld_json['Time Series (Daily)'][date] for date in gld_date]\n",
    "\n",
    "# List comprehension for adding date key value pair to the dictionary\n",
    "# The update() method adds element(s) to the dictionary if the key is not in the dictionary. \n",
    "# If the key is in the dictionary, it updates the key with the new value.\n",
    "[gld_quote[i].update( {\"6. date\": gld_date[i]}) for i in range(len(gld_quote))]\n",
    "\n",
    "# Save JSON file\n",
    "with open('Historical Quotes Raw/GLD Quotes Raw.json', 'w') as outfile:\n",
    "    json.dump(gld_quote, outfile, sort_keys=True, indent=4)"
   ]
  },
  {
   "cell_type": "markdown",
   "metadata": {},
   "source": [
    "# S&P 500 Index Historical Quotes (Alpha Vantage API)"
   ]
  },
  {
   "cell_type": "code",
   "execution_count": 5,
   "metadata": {},
   "outputs": [],
   "source": [
    "# API request for S&P 500 Index (SPX) historical quotes \n",
    "# SPX as a proxy for US stock market performance\n",
    "spx_response = requests.get('https://www.alphavantage.co/query?function=TIME_SERIES_DAILY&symbol=SPX&outputsize=full&apikey={api_key}')\n",
    "spx_json = spx_response.json()"
   ]
  },
  {
   "cell_type": "code",
   "execution_count": 6,
   "metadata": {},
   "outputs": [],
   "source": [
    "# List comprehension for creating a list of date entries\n",
    "spx_date = [date for date in spx_json['Time Series (Daily)']]\n",
    "\n",
    "# List comprehension for creating a list of quote\n",
    "spx_quote = [spx_json['Time Series (Daily)'][date] for date in spx_date]\n",
    "\n",
    "# List comprehension for adding date key value pair to the dictionary\n",
    "[spx_quote[i].update( {\"6. date\": spx_date[i]}) for i in range(len(spx_quote))]\n",
    "\n",
    "# Save JSON file\n",
    "with open('Historical Quotes Raw/SPX Quotes Raw.json', 'w') as outfile:\n",
    "    json.dump(spx_quote, outfile, sort_keys=True, indent=4)"
   ]
  }
 ],
 "metadata": {
  "kernelspec": {
   "display_name": "Python [conda env:PythonData] *",
   "language": "python",
   "name": "conda-env-PythonData-py"
  },
  "language_info": {
   "codemirror_mode": {
    "name": "ipython",
    "version": 3
   },
   "file_extension": ".py",
   "mimetype": "text/x-python",
   "name": "python",
   "nbconvert_exporter": "python",
   "pygments_lexer": "ipython3",
   "version": "3.6.8"
  }
 },
 "nbformat": 4,
 "nbformat_minor": 2
}
