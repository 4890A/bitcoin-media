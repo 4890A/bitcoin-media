{
 "cells": [
  {
   "cell_type": "markdown",
   "metadata": {},
   "source": [
    "# Extract New York Times articles related to bitcoin"
   ]
  },
  {
   "cell_type": "code",
   "execution_count": 1,
   "metadata": {},
   "outputs": [
    {
     "name": "stderr",
     "output_type": "stream",
     "text": [
      "[nltk_data] Downloading package movie_reviews to\n",
      "[nltk_data]     /Users/shujinkou/nltk_data...\n",
      "[nltk_data]   Package movie_reviews is already up-to-date!\n",
      "[nltk_data] Downloading package punkt to /Users/shujinkou/nltk_data...\n",
      "[nltk_data]   Package punkt is already up-to-date!\n"
     ]
    }
   ],
   "source": [
    "import pandas as pd\n",
    "import requests\n",
    "import pprint\n",
    "import nltk\n",
    "nltk.download('movie_reviews')\n",
    "nltk.download('punkt')\n",
    "import time\n",
    "from textblob import TextBlob\n",
    "from textblob.sentiments import NaiveBayesAnalyzer\n",
    "pp = pprint.PrettyPrinter(indent=4)\n",
    "from key import app_key\n",
    "import tqdm\n",
    "import json"
   ]
  },
  {
   "cell_type": "code",
   "execution_count": 54,
   "metadata": {},
   "outputs": [],
   "source": [
    "api_key = app_key"
   ]
  },
  {
   "cell_type": "code",
   "execution_count": 62,
   "metadata": {},
   "outputs": [],
   "source": [
    "# initiate list\n",
    "articles = []"
   ]
  },
  {
   "cell_type": "code",
   "execution_count": 59,
   "metadata": {},
   "outputs": [],
   "source": [
    "\n",
    "def get_articles(articles, params):\n",
    "    \"\"\"\n",
    "    Retrieves article information related to bitcoin from NYT through several api requests.\n",
    "    \n",
    "    Parameters:\n",
    "    articles (list): A list to hold the dictionaries/json response\n",
    "    params (dictionary): The api request params. This is modified within the function to accomedate pagenation\n",
    "    \n",
    "    returns: None\n",
    "    effects: appends articles list with new json responses\n",
    "\n",
    "    \"\"\"\n",
    "\n",
    "    # i runs through the response \"pages\". each requests gives 10 articles\n",
    "    for i in tqdm.tqdm(range(99)):\n",
    "        params[\"page\"] = i\n",
    "        endpoint = \"https://api.nytimes.com/svc/search/v2/articlesearch.json\"\n",
    "        response = requests.get(endpoint, params=params).json()\n",
    "        # loop through each article in an individual api response\n",
    "        for article_num in range(len(response['response']['docs'])):\n",
    "            pub_date = response['response']['docs'][article_num]['pub_date']\n",
    "            headline = response['response']['docs'][article_num]['headline']['main']\n",
    "            abstract = response['response']['docs'][article_num]['abstract']\n",
    "            article_url = response['response']['docs'][article_num]['web_url']\n",
    "            # append the dictionary to the list\n",
    "            articles.append({\"date\": pub_date, \"headline\": headline, \"abstract\": abstract,\n",
    "                             \"url\": article_url})\n",
    "        time.sleep(7)"
   ]
  },
  {
   "cell_type": "code",
   "execution_count": 63,
   "metadata": {},
   "outputs": [
    {
     "name": "stderr",
     "output_type": "stream",
     "text": [
      "100%|██████████| 99/99 [13:16<00:00,  7.75s/it]\n"
     ]
    }
   ],
   "source": [
    "# retreive the first ~1000 results\n",
    "params = {\"q\":\"bitcoin\", \"api-key\": api_key, \"sort\": \"newest\"}\n",
    "get_articles(articles, params)"
   ]
  },
  {
   "cell_type": "code",
   "execution_count": 65,
   "metadata": {},
   "outputs": [
    {
     "name": "stderr",
     "output_type": "stream",
     "text": [
      "100%|██████████| 99/99 [12:34<00:00,  7.64s/it]\n"
     ]
    }
   ],
   "source": [
    "# retreive the last ~500 results\n",
    "end = datetime.datetime.strptime(articles[-1]['date'], \"%Y-%m-%dT%H:%M:%S+0000\").strftime('%Y%m%d')\n",
    "params['end_date'] = '20141031'\n",
    "get_articles(articles, params)"
   ]
  },
  {
   "cell_type": "code",
   "execution_count": 66,
   "metadata": {},
   "outputs": [
    {
     "data": {
      "text/plain": [
       "'2011-05-30T00:37:00+0000'"
      ]
     },
     "execution_count": 66,
     "metadata": {},
     "output_type": "execute_result"
    }
   ],
   "source": [
    "# I used this block to check the oldest date requested. This date \n",
    "# is then used to make a new request with a end_date param\n",
    "# it also sorts the entries by date\n",
    "articles_temp = articles\n",
    "articles_temp.sort(key=lambda item:item['date'], reverse=True)\n",
    "articles_temp[-1]['date']"
   ]
  },
  {
   "cell_type": "code",
   "execution_count": 67,
   "metadata": {},
   "outputs": [
    {
     "data": {
      "text/plain": [
       "{'date': '2019-07-07T07:00:07+0000',\n",
       " 'headline': 'A City Paid a Hefty Ransom to Hackers. But Its Pains Are Far From Over.',\n",
       " 'abstract': 'Weeks after Lake City, Fla., was hit by a cyberattack, the phones are back on and email is working, but the city has not yet recovered all its files.',\n",
       " 'url': 'https://www.nytimes.com/2019/07/07/us/florida-ransom-hack.html'}"
      ]
     },
     "execution_count": 67,
     "metadata": {},
     "output_type": "execute_result"
    }
   ],
   "source": [
    "# example document\n",
    "articles[45]"
   ]
  },
  {
   "cell_type": "code",
   "execution_count": 68,
   "metadata": {},
   "outputs": [
    {
     "data": {
      "text/plain": [
       "1525"
      ]
     },
     "execution_count": 68,
     "metadata": {},
     "output_type": "execute_result"
    }
   ],
   "source": [
    "len(articles)"
   ]
  },
  {
   "cell_type": "code",
   "execution_count": 71,
   "metadata": {},
   "outputs": [],
   "source": [
    "# convert date in json to unix timesamp\n",
    "for article in articles:\n",
    "    article['date'] = datetime.datetime \\\n",
    "    .strptime(article['date'],\n",
    "              \"%Y-%m-%dT%H:%M:%S+0000\") \\\n",
    "    .timestamp()"
   ]
  },
  {
   "cell_type": "code",
   "execution_count": 73,
   "metadata": {},
   "outputs": [],
   "source": [
    "# save as json\n",
    "with open(\"articles.json\", \"w\") as json_data:\n",
    "    json.dump(articles, json_data)\n",
    "df = pd.read_json(\"articles.json\")"
   ]
  },
  {
   "cell_type": "code",
   "execution_count": 74,
   "metadata": {},
   "outputs": [],
   "source": [
    "# save as csv\n",
    "df.to_csv(\"articles.csv\")"
   ]
  },
  {
   "cell_type": "markdown",
   "metadata": {},
   "source": [
    "### Natural Language Processing: Sentiment Analysis"
   ]
  },
  {
   "cell_type": "code",
   "execution_count": 138,
   "metadata": {},
   "outputs": [],
   "source": [
    "def get_sentiment(article):\n",
    "    \"\"\"\n",
    "    Determines the sentiment of a NYT headline\n",
    "    \n",
    "    Parameters:\n",
    "    article (dict): an element of the articles list\n",
    "    \n",
    "    returns: returns the article dictionary with the ['sentiment'] key included.\n",
    "    sentiment is the probability that the headline is a \"positive\" opinion. \n",
    "    \n",
    "    \"\"\"\n",
    "    article['sentiment'] = TextBlob(article['headline'], analyzer=NaiveBayesAnalyzer()).sentiment.p_pos\n",
    "    return article"
   ]
  },
  {
   "cell_type": "code",
   "execution_count": 133,
   "metadata": {},
   "outputs": [
    {
     "data": {
      "text/plain": [
       "0.8942141448021957"
      ]
     },
     "execution_count": 133,
     "metadata": {},
     "output_type": "execute_result"
    }
   ],
   "source": [
    "# an example sentiment anlysis. This has a .89% chance of being positive.\n",
    "TextBlob(articles[0]['headline'], analyzer=NaiveBayesAnalyzer()).sentiment.p_pos"
   ]
  },
  {
   "cell_type": "code",
   "execution_count": 142,
   "metadata": {},
   "outputs": [],
   "source": [
    "# sentiment anlysis was done in parallel, since the naivebayesanalyzer is slow.\n",
    "from multiprocessing.dummy import Pool as ThreadPool\n",
    "pool = ThreadPool()\n",
    "# utalize all cores\n",
    "results = pool.map(get_sentiment, articles)\n",
    "#close the pool and wait for the work to finish\n",
    "pool.close()\n",
    "pool.join()"
   ]
  },
  {
   "cell_type": "code",
   "execution_count": 145,
   "metadata": {},
   "outputs": [
    {
     "data": {
      "text/plain": [
       "{'date': '2011-05-30T00:37:00+0000',\n",
       " 'headline': 'Some Faint Praise for Mr. Ballmer',\n",
       " 'abstract': 'David Einhorn’s critique of Steve Ballmer is on target even if he’s far from the only chief executive who has struggled to make the most of a franchise.',\n",
       " 'lead_paragraph': 'Microsoft has missed too many opportunities under Steve Ballmer’s stewardship. It’s a fair criticism reignited last week by the hedge fund boss, David Einhorn, who called for the software giant’s chief executive to step down. But that doesn’t necessarily mean Mr. Ballmer will go. Based on total return to shareholders, other long-time company bosses, including Jeff Immelt at General Electric, have fared worse.',\n",
       " 'url': 'https://www.nytimes.com/2011/05/30/business/economy/30views.html',\n",
       " 'sentiment': 0.6809889669735206}"
      ]
     },
     "execution_count": 145,
     "metadata": {},
     "output_type": "execute_result"
    }
   ],
   "source": [
    "results[-1]"
   ]
  },
  {
   "cell_type": "code",
   "execution_count": 144,
   "metadata": {},
   "outputs": [],
   "source": [
    "# save as json with sentiment anlysis completed\n",
    "with open(\"articles_with_sentiment.json\", \"w\") as json_data:\n",
    "    json.dump(results, json_data)"
   ]
  },
  {
   "cell_type": "code",
   "execution_count": 10,
   "metadata": {},
   "outputs": [
    {
     "data": {
      "text/plain": [
       "Sentiment(polarity=0.0, subjectivity=0.0)"
      ]
     },
     "execution_count": 10,
     "metadata": {},
     "output_type": "execute_result"
    }
   ],
   "source": [
    "TextBlob(\"BULLISH\").sentiment"
   ]
  },
  {
   "cell_type": "code",
   "execution_count": 6,
   "metadata": {},
   "outputs": [],
   "source": [
    "params = {\"q\":\"bitcoin\", \"api-key\": api_key, \"sort\": \"newest\", \"page\": 1}\n",
    "endpoint = \"https://api.nytimes.com/svc/search/v2/articlesearch.json\"\n",
    "result = requests.get(endpoint, params).json()"
   ]
  },
  {
   "cell_type": "code",
   "execution_count": 70,
   "metadata": {},
   "outputs": [
    {
     "name": "stdout",
     "output_type": "stream",
     "text": [
      "2019-09-12T20:28:03+0000\n"
     ]
    },
    {
     "data": {
      "text/plain": [
       "1566960204.0"
      ]
     },
     "execution_count": 70,
     "metadata": {},
     "output_type": "execute_result"
    }
   ],
   "source": [
    "import datetime\n",
    "import time\n",
    "print(result['response']['docs'][0]['pub_date'])\n",
    "datetime.datetime.strptime(result['response']['docs'][-1]['pub_date'], \"%Y-%m-%dT%H:%M:%S+0000\").timestamp()"
   ]
  },
  {
   "cell_type": "code",
   "execution_count": null,
   "metadata": {},
   "outputs": [],
   "source": []
  },
  {
   "cell_type": "code",
   "execution_count": null,
   "metadata": {},
   "outputs": [],
   "source": []
  }
 ],
 "metadata": {
  "@webio": {
   "lastCommId": null,
   "lastKernelId": null
  },
  "kernelspec": {
   "display_name": "PythonData",
   "language": "python",
   "name": "pythondata"
  },
  "language_info": {
   "codemirror_mode": {
    "name": "ipython",
    "version": 3
   },
   "file_extension": ".py",
   "mimetype": "text/x-python",
   "name": "python",
   "nbconvert_exporter": "python",
   "pygments_lexer": "ipython3",
   "version": "3.6.8"
  }
 },
 "nbformat": 4,
 "nbformat_minor": 2
}
